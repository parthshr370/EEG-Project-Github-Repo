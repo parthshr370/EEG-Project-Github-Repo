{
 "cells": [
  {
   "cell_type": "code",
   "execution_count": 2,
   "metadata": {},
   "outputs": [],
   "source": [
    "import mne \n",
    "import torch \n",
    "import torch.nn as nn \n"
   ]
  },
  {
   "cell_type": "code",
   "execution_count": 14,
   "metadata": {},
   "outputs": [
    {
     "name": "stdout",
     "output_type": "stream",
     "text": [
      "Reading /home/technoshr370/Downloads/Dataset/ds003751/sub-mit003/eeg/sub-mit003_task-Emotion_eeg.fdt\n",
      "Reading 0 ... 674089  =      0.000 ...  2696.356 secs...\n"
     ]
    },
    {
     "name": "stderr",
     "output_type": "stream",
     "text": [
      "/tmp/ipykernel_57050/956615108.py:2: RuntimeWarning: Unknown types found, setting as type EEG:\n",
      "pns: ['ECG', 'EMG', 'EMG_2']\n",
      "  raw = mne.io.read_raw_eeglab('/home/technoshr370/Downloads/Dataset/ds003751/sub-mit003/eeg/sub-mit003_task-Emotion_eeg.set', preload=True)\n",
      "/tmp/ipykernel_57050/956615108.py:2: RuntimeWarning: The data contains 'boundary' events, indicating data discontinuities. Be cautious of filtering and epoching around these events.\n",
      "  raw = mne.io.read_raw_eeglab('/home/technoshr370/Downloads/Dataset/ds003751/sub-mit003/eeg/sub-mit003_task-Emotion_eeg.set', preload=True)\n"
     ]
    }
   ],
   "source": [
    "# Load the raw EEG data from a .fif file\n",
    "raw = mne.io.read_raw_eeglab('/home/technoshr370/Downloads/Dataset/ds003751/sub-mit003/eeg/sub-mit003_task-Emotion_eeg.set', preload=True)"
   ]
  },
  {
   "cell_type": "code",
   "execution_count": 15,
   "metadata": {},
   "outputs": [
    {
     "name": "stdout",
     "output_type": "stream",
     "text": [
      "<Info | 8 non-empty values\n",
      " bads: []\n",
      " ch_names: E1, E2, E3, E4, E5, E6, E7, E8, E9, E10, E11, E12, E13, E14, ...\n",
      " chs: 132 EEG\n",
      " custom_ref_applied: False\n",
      " dig: 135 items (3 Cardinal, 132 EEG)\n",
      " highpass: 0.0 Hz\n",
      " lowpass: 125.0 Hz\n",
      " meas_date: unspecified\n",
      " nchan: 132\n",
      " projs: []\n",
      " sfreq: 250.0 Hz\n",
      ">\n"
     ]
    }
   ],
   "source": [
    "print(raw.info)"
   ]
  },
  {
   "cell_type": "code",
   "execution_count": 22,
   "metadata": {},
   "outputs": [
    {
     "name": "stdout",
     "output_type": "stream",
     "text": [
      "<RawEEGLAB | sub-mit003_task-Emotion_eeg.fdt, 132 x 674090 (2696.4 s), ~679.0 MB, data loaded>\n",
      " ch  name   type  unit        min         Q1     median         Q3        max\n",
      "  0  E1     EEG   µV    -417694.12     -10.94       0.19      11.25  308440.47\n",
      "  1  E2     EEG   µV    -372481.89      -9.46      -0.55       8.39  391511.94\n",
      "  2  E3     EEG   µV    -345493.41      -9.20      -0.70       7.66  446523.12\n",
      "  3  E4     EEG   µV    -370456.13      -7.32      -0.47       6.25  310315.62\n",
      "  4  E5     EEG   µV    -272627.91      -6.58      -0.55       5.28   77193.84\n",
      "  5  E6     EEG   µV    -109008.75      -4.93      -0.39       4.06   74347.87\n",
      "  6  E7     EEG   µV    -109019.61      -2.98      -0.14       2.76   77742.19\n",
      "  7  E8     EEG   µV    -389807.12     -17.76      -2.17      11.11  482364.06\n",
      "  8  E9     EEG   µV    -561977.44     -10.75      -1.16       7.63  492984.37\n",
      "  9  E10    EEG   µV    -365084.80      -8.22      -0.77       6.33  479000.54\n",
      " 10  E11    EEG   µV    -210925.13      -7.51      -0.70       5.71  527264.90\n",
      " 11  E12    EEG   µV    -202132.66      -5.45      -0.36       4.77  182320.90\n",
      " 12  E13    EEG   µV    -169788.73      -4.43      -0.18       4.16  176604.20\n",
      " 13  E14    EEG   µV    -400349.78     -12.63      -1.42       8.54  492817.50\n",
      " 14  E15    EEG   µV    -367094.09     -10.24      -1.09       7.34  493926.00\n",
      " 15  E16    EEG   µV    -199702.93      -8.95      -0.89       6.68  551056.36\n",
      " 16  E17    EEG   µV    -397169.14     -11.92      -1.26       8.48  498488.27\n",
      " 17  E18    EEG   µV    -182583.93      -8.96      -0.81       7.14  471054.76\n",
      " 18  E19    EEG   µV    -198125.55      -6.29      -0.48       5.32  506700.60\n",
      " 19  E20    EEG   µV    -205390.28      -5.71      -0.26       5.30  241520.34\n",
      " 20  E21    EEG   µV    -346583.74     -12.93      -1.41       8.72  407920.72\n",
      " 21  E22    EEG   µV    -371283.50     -10.64      -1.08       7.85  422249.83\n",
      " 22  E23    EEG   µV    -472928.57      -8.40      -0.63       7.11  286458.04\n",
      " 23  E24    EEG   µV    -287865.92      -6.96      -0.32       6.42  375907.39\n",
      " 24  E25    EEG   µV    -404922.26     -17.02      -1.97      10.97  351779.37\n",
      " 25  E26    EEG   µV    -231409.38     -11.03      -0.41      10.10  304101.38\n",
      " 26  E27    EEG   µV    -208390.98      -8.06      -0.16       7.87  411913.47\n",
      " 27  E28    EEG   µV    -185433.98      -7.03      -0.02       7.15  518430.92\n",
      " 28  E29    EEG   µV    -177275.70      -4.48       0.01       4.53  498249.13\n",
      " 29  E30    EEG   µV    -194956.50      -3.86       0.03       3.94  235327.81\n",
      " 30  E31    EEG   µV    -123715.35      -2.90      -0.00       2.96   56693.92\n",
      " 31  E32    EEG   µV    -400472.18     -11.15       0.22      11.36  405690.35\n",
      " 32  E33    EEG   µV    -156932.25      -9.06       0.26       9.41  386284.38\n",
      " 33  E34    EEG   µV    -202937.14      -9.21       0.28       9.66  493730.56\n",
      " 34  E35    EEG   µV    -151351.12      -6.14       0.09       6.26  514103.84\n",
      " 35  E36    EEG   µV    -145049.49      -5.91       0.10       6.05  244115.20\n",
      " 36  E37    EEG   µV    -144272.05      -4.47       0.18       4.81   64308.76\n",
      " 37  E38    EEG   µV    -346926.28      -9.99       0.48      10.69  286586.80\n",
      " 38  E39    EEG   µV    -181187.05     -10.81       0.44      11.48  541824.11\n",
      " 39  E40    EEG   µV    -271651.53     -10.26       0.34      10.80  512594.24\n",
      " 40  E41    EEG   µV    -168666.22      -7.21       0.25       7.56  527614.58\n",
      " 41  E42    EEG   µV    -149691.12      -6.01       0.30       6.48  175920.04\n",
      " 42  E43    EEG   µV    -372672.90     -10.14       0.57      11.09  286573.49\n",
      " 43  E44    EEG   µV    -377315.58     -10.04       0.54      10.82  488652.57\n",
      " 44  E45    EEG   µV    -281158.41     -10.90       0.55      11.70  495437.95\n",
      " 45  E46    EEG   µV    -200682.81      -9.09       0.34       9.59  510134.59\n",
      " 46  E47    EEG   µV    -146839.93      -6.94       0.34       7.45  517413.52\n",
      " 47  E48    EEG   µV    -347430.64     -10.06       0.77      11.34  333085.98\n",
      " 48  E49    EEG   µV    -261440.74      -9.49       0.63      10.56  488180.41\n",
      " 49  E50    EEG   µV    -260615.12     -53.34       3.99      60.57  499349.78\n",
      " 50  E51    EEG   µV    -283260.52      -7.67       0.41       8.32  494274.76\n",
      " 51  E52    EEG   µV    -137386.55      -7.25       0.37       7.87  159652.14\n",
      " 52  E53    EEG   µV    -133319.12      -5.41       0.31       5.96   71333.41\n",
      " 53  E54    EEG   µV    -269548.49      -4.67       0.29       5.14   70651.76\n",
      " 54  E55    EEG   µV    -108776.34      -2.40       0.16       2.68  168387.92\n",
      " 55  E56    EEG   µV    -191569.28     -12.50       0.57      13.69  504391.13\n",
      " 56  E57    EEG   µV    -283713.48      -9.67       0.47      10.45  478436.29\n",
      " 57  E58    EEG   µV    -194525.63      -9.19       0.41       9.89  484304.30\n",
      " 58  E59    EEG   µV    -254338.33      -7.70       0.41       8.39   88220.99\n",
      " 59  E60    EEG   µV    -128508.86      -6.65       0.39       7.34   71519.00\n",
      " 60  E61    EEG   µV    -108959.62      -5.56       0.36       6.16  157139.67\n",
      " 61  E62    EEG   µV    -322475.88      -6.45       0.42       7.15  146537.99\n",
      " 62  E63    EEG   µV    -254929.05     -11.36       0.34      12.29  485011.62\n",
      " 63  E64    EEG   µV    -175565.01     -10.41       0.39      11.18  500761.86\n",
      " 64  E65    EEG   µV    -252290.88      -8.70       0.43       9.50   81258.25\n",
      " 65  E66    EEG   µV    -252441.55      -7.68       0.43       8.43  184576.70\n",
      " 66  E67    EEG   µV    -318681.23      -7.25       0.44       7.98  156362.06\n",
      " 67  E68    EEG   µV    -299367.47     -11.22       0.22      12.02  500231.70\n",
      " 68  E69    EEG   µV    -263054.11      -9.84       0.39      10.60  120638.47\n",
      " 69  E70    EEG   µV    -242043.62      -8.77       0.41       9.62   81023.69\n",
      " 70  E71    EEG   µV    -246181.34      -8.01       0.47       8.83  106438.95\n",
      " 71  E72    EEG   µV    -302707.90      -7.65       0.48       8.49  131050.30\n",
      " 72  E73    EEG   µV    -232109.54     -11.08       0.37      11.91  164540.66\n",
      " 73  E74    EEG   µV    -280423.14      -9.82       0.43      10.63  168630.30\n",
      " 74  E75    EEG   µV    -248811.33      -9.50       0.58      10.36  116647.41\n",
      " 75  E76    EEG   µV    -316838.10      -8.68       0.60       9.57  376052.10\n",
      " 76  E77    EEG   µV    -229435.98      -7.94       0.55       8.78  241531.88\n",
      " 77  E78    EEG   µV    -260064.99      -5.86       0.34       6.43  226185.49\n",
      " 78  E79    EEG   µV    -295031.38      -4.74       0.31       5.27  101041.13\n",
      " 79  E80    EEG   µV    -109293.21      -3.07       0.15       3.34  102347.40\n",
      " 80  E81    EEG   µV    -319569.09     -10.39       0.49      11.32  343205.54\n",
      " 81  E82    EEG   µV    -167391.87     -10.15       0.41      10.85  319823.56\n",
      " 82  E83    EEG   µV    -318441.94      -9.64       0.60      10.53  316039.54\n",
      " 83  E84    EEG   µV    -374077.33      -9.06       0.60       9.90  288690.29\n",
      " 84  E85    EEG   µV    -352830.58      -7.26       0.50       7.98  288696.38\n",
      " 85  E86    EEG   µV    -205653.59      -5.94       0.41       6.45  185350.77\n",
      " 86  E87    EEG   µV    -280624.86      -3.97       0.22       4.28  105593.78\n",
      " 87  E88    EEG   µV    -356071.69     -10.19       0.51      10.94  321971.20\n",
      " 88  E89    EEG   µV    -378325.32      -9.79       0.54      10.57  425103.52\n",
      " 89  E90    EEG   µV    -381607.13      -9.16       0.59       9.99  286973.81\n",
      " 90  E91    EEG   µV    -374235.87      -8.38       0.53       9.12  299407.42\n",
      " 91  E92    EEG   µV    -391025.49      -6.65       0.43       7.16  311660.24\n",
      " 92  E93    EEG   µV    -397792.47      -6.75       0.41       7.19  302849.37\n",
      " 93  E94    EEG   µV    -379810.31     -10.13       0.58      11.06  355489.90\n",
      " 94  E95    EEG   µV    -410358.23     -11.01       0.59      11.85  494984.98\n",
      " 95  E96    EEG   µV    -394190.89     -10.14       0.62      10.95  489298.35\n",
      " 96  E97    EEG   µV    -382117.58      -7.95       0.47       8.45  513457.41\n",
      " 97  E98    EEG   µV    -407214.67      -7.06       0.43       7.51  285067.59\n",
      " 98  E99    EEG   µV    -428494.04     -10.70       0.66      11.79  490532.73\n",
      " 99  E100   EEG   µV    -411474.14     -11.30       0.52      12.06  497265.21\n",
      "100  E101   EEG   µV    -397062.16      -9.50       0.59      10.27  508659.19\n",
      "101  E102   EEG   µV    -406090.57      -7.36       0.43       7.84  502994.69\n",
      "102  E103   EEG   µV    -384445.97     -59.21       0.30      46.87  508447.01\n",
      "103  E104   EEG   µV    -386500.10      -5.77       0.21       6.05  284936.63\n",
      "104  E105   EEG   µV    -247468.82      -3.68       0.06       3.78  430658.89\n",
      "105  E106   EEG   µV    -122969.66      -3.51      -0.08       3.43  103368.54\n",
      "106  E107   EEG   µV    -347811.59     -12.12       0.54      12.87  505315.35\n",
      "107  E108   EEG   µV    -387949.74     -11.06       0.58      11.78  507666.11\n",
      "108  E109   EEG   µV    -386993.24      -8.25       0.26       8.58  504876.65\n",
      "109  E110   EEG   µV    -388151.77      -5.94       0.20       6.19  358421.94\n",
      "110  E111   EEG   µV    -371224.44      -4.38       0.05       4.49  284222.33\n",
      "111  E112   EEG   µV    -186917.30      -5.06      -0.21       4.72  105717.65\n",
      "112  E113   EEG   µV    -345152.86     -10.07       0.72      11.12  388218.03\n",
      "113  E114   EEG   µV    -351872.96     -10.29       0.57      10.99  303212.75\n",
      "114  E115   EEG   µV    -417978.72     -10.86       0.52      11.57  519913.42\n",
      "115  E116   EEG   µV    -379357.70      -8.37       0.17       8.61  329999.93\n",
      "116  E117   EEG   µV    -396458.23      -6.49       0.02       6.66  284331.41\n",
      "117  E118   EEG   µV    -383992.59      -6.25      -0.27       5.78  310584.50\n",
      "118  E119   EEG   µV    -345179.03     -10.39       0.89      11.65  342350.65\n",
      "119  E120   EEG   µV    -345166.55      -9.88       0.73      10.90  297761.36\n",
      "120  E121   EEG   µV    -377850.59     -10.14       0.47      10.78  405795.00\n",
      "121  E122   EEG   µV    -390866.34      -9.17       0.25       9.65  376760.73\n",
      "122  E123   EEG   µV    -400417.32      -8.80      -0.13       8.66  397921.01\n",
      "123  E124   EEG   µV    -369005.92      -7.21      -0.36       6.57  287350.30\n",
      "124  E125   EEG   µV    -407860.89     -10.29       0.68      11.27  394375.64\n",
      "125  E126   EEG   µV    -343246.89     -11.21       1.04      12.96  488464.35\n",
      "126  E127   EEG   µV    -346169.36     -12.14       0.84      13.44  377715.31\n",
      "127  E128   EEG   µV    -385034.20     -10.69       0.75      11.90  326362.92\n",
      "128  E129   EEG   µV         0.00       0.00       0.00       0.00       0.00\n",
      "129  ECG    EEG   µV    -15434.82    -211.81     -97.53       0.93   17482.00\n",
      "130  EMG    EEG   µV    -84527.47      -1.25       0.02       1.29   14140.78\n",
      "131  EMG_2  EEG   µV     -6475.83      -6.23      -1.34       2.62   10490.63\n"
     ]
    }
   ],
   "source": [
    "raw.describe()"
   ]
  },
  {
   "cell_type": "code",
   "execution_count": 23,
   "metadata": {},
   "outputs": [
    {
     "name": "stdout",
     "output_type": "stream",
     "text": [
      "Filtering raw data in 1 contiguous segment\n",
      "Setting up band-pass filter from 1 - 40 Hz\n",
      "\n",
      "FIR filter parameters\n",
      "---------------------\n",
      "Designing a one-pass, zero-phase, non-causal bandpass filter:\n",
      "- Windowed time-domain design (firwin) method\n",
      "- Hamming window with 0.0194 passband ripple and 53 dB stopband attenuation\n",
      "- Lower passband edge: 1.00\n",
      "- Lower transition bandwidth: 1.00 Hz (-6 dB cutoff frequency: 0.50 Hz)\n",
      "- Upper passband edge: 40.00 Hz\n",
      "- Upper transition bandwidth: 10.00 Hz (-6 dB cutoff frequency: 45.00 Hz)\n",
      "- Filter length: 825 samples (3.300 s)\n",
      "\n"
     ]
    },
    {
     "name": "stderr",
     "output_type": "stream",
     "text": [
      "[Parallel(n_jobs=1)]: Done  17 tasks      | elapsed:    0.2s\n",
      "[Parallel(n_jobs=1)]: Done  71 tasks      | elapsed:    0.9s\n"
     ]
    },
    {
     "name": "stdout",
     "output_type": "stream",
     "text": [
      "Used Annotations descriptions: [np.str_('IBEG'), np.str_('IEND'), np.str_('arsl'), np.str_('base'), np.str_('bend'), np.str_('boundary'), np.str_('cate'), np.str_('clic'), np.str_('dmns'), np.str_('fixL'), np.str_('fmrt'), np.str_('lkng'), np.str_('net'), np.str_('puse'), np.str_('qdon'), np.str_('quiz'), np.str_('relv'), np.str_('rsrt'), np.str_('stm'), np.str_('stop'), np.str_('trno'), np.str_('vlnc')]\n",
      "Not setting metadata\n",
      "130 matching events found\n",
      "Setting baseline interval to [-0.2, 0.0] s\n",
      "Applying baseline correction (mode: mean)\n",
      "0 projection items activated\n",
      "Using data from preloaded Raw for 130 events and 176 original time points ...\n",
      "0 bad epochs dropped\n"
     ]
    }
   ],
   "source": [
    "# Apply band-pass filter (e.g., 1-40 Hz)\n",
    "raw.filter(l_freq=1.0, h_freq=40.0)\n",
    "\n",
    "# Check for events (triggers) in the data\n",
    "events, event_id = mne.events_from_annotations(raw)\n",
    "\n",
    "# If events are found, create epochs around them\n",
    "if len(events) > 0:\n",
    "    # Define epochs around events\n",
    "    epochs = mne.Epochs(raw, events=events, event_id=event_id,\n",
    "                        tmin=-0.2, tmax=0.5, baseline=(None, 0))\n",
    "else:\n",
    "    # If no events, create fixed-length epochs\n",
    "    epochs = mne.make_fixed_length_epochs(raw, duration=1.0, overlap=0.5)\n",
    "\n",
    "# Get the data array\n",
    "data = epochs.get_data()  # Shape: (n_epochs, n_channels, n_times)\n"
   ]
  },
  {
   "cell_type": "code",
   "execution_count": 24,
   "metadata": {},
   "outputs": [],
   "source": [
    "import numpy as np\n",
    "from sklearn.model_selection import train_test_split\n",
    "from sklearn.preprocessing import StandardScaler\n",
    "\n",
    "# Get data dimensions\n",
    "n_epochs, n_channels, n_times = data.shape\n",
    "\n",
    "# Flatten the data for input to the VAE\n",
    "data = data.reshape(n_epochs, n_channels * n_times)\n",
    "\n",
    "# Normalize the data\n",
    "scaler = StandardScaler()\n",
    "data = scaler.fit_transform(data)\n"
   ]
  },
  {
   "cell_type": "markdown",
   "metadata": {},
   "source": [
    "## Train test split "
   ]
  },
  {
   "cell_type": "code",
   "execution_count": 26,
   "metadata": {},
   "outputs": [],
   "source": [
    "# Split the data into training and validation sets\n",
    "X_train, X_val = train_test_split(data, test_size=0.2, random_state=42)"
   ]
  },
  {
   "cell_type": "markdown",
   "metadata": {},
   "source": [
    "# main VAE architecture "
   ]
  },
  {
   "cell_type": "code",
   "execution_count": 27,
   "metadata": {},
   "outputs": [],
   "source": [
    "import torch\n",
    "from torch import nn\n",
    "\n",
    "class VAE(nn.Module):\n",
    "    def __init__(self, input_dim, latent_dim):\n",
    "        super(VAE, self).__init__()\n",
    "        # Encoder\n",
    "        self.fc1 = nn.Linear(input_dim, 512)\n",
    "        self.fc21 = nn.Linear(512, latent_dim)  # Mean\n",
    "        self.fc22 = nn.Linear(512, latent_dim)  # LogVariance\n",
    "        # Decoder\n",
    "        self.fc3 = nn.Linear(latent_dim, 512)\n",
    "        self.fc4 = nn.Linear(512, input_dim)\n",
    "\n",
    "    def encode(self, x):\n",
    "        h1 = torch.relu(self.fc1(x))\n",
    "        return self.fc21(h1), self.fc22(h1)  # Return mean and logvar\n",
    "\n",
    "    def reparameterize(self, mu, logvar):\n",
    "        std = torch.exp(0.5 * logvar)\n",
    "        eps = torch.randn_like(std)\n",
    "        return mu + eps * std  # Sampling\n",
    "\n",
    "    def decode(self, z):\n",
    "        h3 = torch.relu(self.fc3(z))\n",
    "        return torch.sigmoid(self.fc4(h3))  # Reconstruction\n",
    "\n",
    "    def forward(self, x):\n",
    "        mu, logvar = self.encode(x.view(-1, input_dim))\n",
    "        z = self.reparameterize(mu, logvar)\n",
    "        return self.decode(z), mu, logvar\n"
   ]
  },
  {
   "cell_type": "code",
   "execution_count": 28,
   "metadata": {},
   "outputs": [],
   "source": [
    "# Parameters\n",
    "input_dim = X_train.shape[1]\n",
    "latent_dim = 20\n",
    "batch_size = 64\n",
    "epochs = 50\n",
    "learning_rate = 1e-3\n"
   ]
  },
  {
   "cell_type": "code",
   "execution_count": 29,
   "metadata": {},
   "outputs": [],
   "source": [
    "model = VAE(input_dim, latent_dim)\n",
    "optimizer = torch.optim.Adam(model.parameters(), lr=learning_rate)\n",
    "\n",
    "# Loss Function\n",
    "def loss_function(recon_x, x, mu, logvar):\n",
    "    # Reconstruction loss (BCE or MSE)\n",
    "    recon_loss = nn.functional.mse_loss(recon_x, x, reduction='sum')\n",
    "    # KL Divergence\n",
    "    kl_loss = -0.5 * torch.sum(1 + logvar - mu.pow(2) - logvar.exp())\n",
    "    return recon_loss + kl_loss\n"
   ]
  },
  {
   "cell_type": "code",
   "execution_count": 30,
   "metadata": {},
   "outputs": [],
   "source": [
    "from torch.utils.data import DataLoader, TensorDataset"
   ]
  },
  {
   "cell_type": "code",
   "execution_count": 31,
   "metadata": {},
   "outputs": [],
   "source": [
    "\n",
    "# Convert data to PyTorch tensors\n",
    "X_train_tensor = torch.tensor(X_train).float()\n",
    "train_dataset = TensorDataset(X_train_tensor)\n",
    "train_loader = DataLoader(train_dataset, batch_size=batch_size, shuffle=True)\n"
   ]
  },
  {
   "cell_type": "code",
   "execution_count": 32,
   "metadata": {},
   "outputs": [
    {
     "name": "stdout",
     "output_type": "stream",
     "text": [
      "Epoch 1, Loss: 33672.6185\n",
      "Epoch 2, Loss: nan\n",
      "Epoch 3, Loss: nan\n",
      "Epoch 4, Loss: nan\n",
      "Epoch 5, Loss: nan\n",
      "Epoch 6, Loss: nan\n",
      "Epoch 7, Loss: nan\n",
      "Epoch 8, Loss: nan\n",
      "Epoch 9, Loss: nan\n",
      "Epoch 10, Loss: nan\n",
      "Epoch 11, Loss: nan\n",
      "Epoch 12, Loss: nan\n",
      "Epoch 13, Loss: nan\n",
      "Epoch 14, Loss: nan\n",
      "Epoch 15, Loss: nan\n",
      "Epoch 16, Loss: nan\n",
      "Epoch 17, Loss: nan\n",
      "Epoch 18, Loss: nan\n",
      "Epoch 19, Loss: nan\n",
      "Epoch 20, Loss: nan\n",
      "Epoch 21, Loss: nan\n",
      "Epoch 22, Loss: nan\n",
      "Epoch 23, Loss: nan\n",
      "Epoch 24, Loss: nan\n",
      "Epoch 25, Loss: nan\n",
      "Epoch 26, Loss: nan\n",
      "Epoch 27, Loss: nan\n",
      "Epoch 28, Loss: nan\n",
      "Epoch 29, Loss: nan\n",
      "Epoch 30, Loss: nan\n",
      "Epoch 31, Loss: nan\n",
      "Epoch 32, Loss: nan\n",
      "Epoch 33, Loss: nan\n",
      "Epoch 34, Loss: nan\n",
      "Epoch 35, Loss: nan\n",
      "Epoch 36, Loss: nan\n",
      "Epoch 37, Loss: nan\n",
      "Epoch 38, Loss: nan\n",
      "Epoch 39, Loss: nan\n",
      "Epoch 40, Loss: nan\n",
      "Epoch 41, Loss: nan\n",
      "Epoch 42, Loss: nan\n",
      "Epoch 43, Loss: nan\n",
      "Epoch 44, Loss: nan\n",
      "Epoch 45, Loss: nan\n",
      "Epoch 46, Loss: nan\n",
      "Epoch 47, Loss: nan\n",
      "Epoch 48, Loss: nan\n",
      "Epoch 49, Loss: nan\n",
      "Epoch 50, Loss: nan\n"
     ]
    }
   ],
   "source": [
    "\n",
    "# Training Loop\n",
    "for epoch in range(epochs):\n",
    "    model.train()\n",
    "    train_loss = 0\n",
    "    for data_batch in train_loader:\n",
    "        data_batch = data_batch[0]  # Extract data from tuple\n",
    "        optimizer.zero_grad()\n",
    "        recon_batch, mu, logvar = model(data_batch)\n",
    "        loss = loss_function(recon_batch, data_batch, mu, logvar)\n",
    "        loss.backward()\n",
    "        train_loss += loss.item()\n",
    "        optimizer.step()\n",
    "    avg_loss = train_loss / len(X_train)\n",
    "    print(f'Epoch {epoch + 1}, Loss: {avg_loss:.4f}')"
   ]
  },
  {
   "cell_type": "code",
   "execution_count": 33,
   "metadata": {},
   "outputs": [],
   "source": [
    "model.eval()\n",
    "with torch.no_grad():\n",
    "    # Convert validation data to tensor\n",
    "    X_val_tensor = torch.tensor(X_val).float()\n",
    "    # Encode validation data\n",
    "    mu, logvar = model.encode(X_val_tensor)\n",
    "    # Use the mean (mu) as the feature representation\n",
    "    features = mu.numpy()\n"
   ]
  },
  {
   "cell_type": "code",
   "execution_count": 34,
   "metadata": {},
   "outputs": [
    {
     "ename": "ValueError",
     "evalue": "perplexity must be less than n_samples",
     "output_type": "error",
     "traceback": [
      "\u001b[0;31m---------------------------------------------------------------------------\u001b[0m",
      "\u001b[0;31mValueError\u001b[0m                                Traceback (most recent call last)",
      "Cell \u001b[0;32mIn[34], line 5\u001b[0m\n\u001b[1;32m      3\u001b[0m \u001b[38;5;66;03m# Reduce dimensions for visualization\u001b[39;00m\n\u001b[1;32m      4\u001b[0m tsne \u001b[38;5;241m=\u001b[39m TSNE(n_components\u001b[38;5;241m=\u001b[39m\u001b[38;5;241m2\u001b[39m, random_state\u001b[38;5;241m=\u001b[39m\u001b[38;5;241m42\u001b[39m)\n\u001b[0;32m----> 5\u001b[0m features_2d \u001b[38;5;241m=\u001b[39m \u001b[43mtsne\u001b[49m\u001b[38;5;241;43m.\u001b[39;49m\u001b[43mfit_transform\u001b[49m\u001b[43m(\u001b[49m\u001b[43mfeatures\u001b[49m\u001b[43m)\u001b[49m\n\u001b[1;32m      7\u001b[0m plt\u001b[38;5;241m.\u001b[39mscatter(features_2d[:, \u001b[38;5;241m0\u001b[39m], features_2d[:, \u001b[38;5;241m1\u001b[39m])\n\u001b[1;32m      8\u001b[0m plt\u001b[38;5;241m.\u001b[39mtitle(\u001b[38;5;124m'\u001b[39m\u001b[38;5;124mt-SNE Visualization of VAE Features\u001b[39m\u001b[38;5;124m'\u001b[39m)\n",
      "File \u001b[0;32m~/parthpython/lib/python3.12/site-packages/sklearn/utils/_set_output.py:316\u001b[0m, in \u001b[0;36m_wrap_method_output.<locals>.wrapped\u001b[0;34m(self, X, *args, **kwargs)\u001b[0m\n\u001b[1;32m    314\u001b[0m \u001b[38;5;129m@wraps\u001b[39m(f)\n\u001b[1;32m    315\u001b[0m \u001b[38;5;28;01mdef\u001b[39;00m \u001b[38;5;21mwrapped\u001b[39m(\u001b[38;5;28mself\u001b[39m, X, \u001b[38;5;241m*\u001b[39margs, \u001b[38;5;241m*\u001b[39m\u001b[38;5;241m*\u001b[39mkwargs):\n\u001b[0;32m--> 316\u001b[0m     data_to_wrap \u001b[38;5;241m=\u001b[39m \u001b[43mf\u001b[49m\u001b[43m(\u001b[49m\u001b[38;5;28;43mself\u001b[39;49m\u001b[43m,\u001b[49m\u001b[43m \u001b[49m\u001b[43mX\u001b[49m\u001b[43m,\u001b[49m\u001b[43m \u001b[49m\u001b[38;5;241;43m*\u001b[39;49m\u001b[43margs\u001b[49m\u001b[43m,\u001b[49m\u001b[43m \u001b[49m\u001b[38;5;241;43m*\u001b[39;49m\u001b[38;5;241;43m*\u001b[39;49m\u001b[43mkwargs\u001b[49m\u001b[43m)\u001b[49m\n\u001b[1;32m    317\u001b[0m     \u001b[38;5;28;01mif\u001b[39;00m \u001b[38;5;28misinstance\u001b[39m(data_to_wrap, \u001b[38;5;28mtuple\u001b[39m):\n\u001b[1;32m    318\u001b[0m         \u001b[38;5;66;03m# only wrap the first output for cross decomposition\u001b[39;00m\n\u001b[1;32m    319\u001b[0m         return_tuple \u001b[38;5;241m=\u001b[39m (\n\u001b[1;32m    320\u001b[0m             _wrap_data_with_container(method, data_to_wrap[\u001b[38;5;241m0\u001b[39m], X, \u001b[38;5;28mself\u001b[39m),\n\u001b[1;32m    321\u001b[0m             \u001b[38;5;241m*\u001b[39mdata_to_wrap[\u001b[38;5;241m1\u001b[39m:],\n\u001b[1;32m    322\u001b[0m         )\n",
      "File \u001b[0;32m~/parthpython/lib/python3.12/site-packages/sklearn/base.py:1473\u001b[0m, in \u001b[0;36m_fit_context.<locals>.decorator.<locals>.wrapper\u001b[0;34m(estimator, *args, **kwargs)\u001b[0m\n\u001b[1;32m   1466\u001b[0m     estimator\u001b[38;5;241m.\u001b[39m_validate_params()\n\u001b[1;32m   1468\u001b[0m \u001b[38;5;28;01mwith\u001b[39;00m config_context(\n\u001b[1;32m   1469\u001b[0m     skip_parameter_validation\u001b[38;5;241m=\u001b[39m(\n\u001b[1;32m   1470\u001b[0m         prefer_skip_nested_validation \u001b[38;5;129;01mor\u001b[39;00m global_skip_validation\n\u001b[1;32m   1471\u001b[0m     )\n\u001b[1;32m   1472\u001b[0m ):\n\u001b[0;32m-> 1473\u001b[0m     \u001b[38;5;28;01mreturn\u001b[39;00m \u001b[43mfit_method\u001b[49m\u001b[43m(\u001b[49m\u001b[43mestimator\u001b[49m\u001b[43m,\u001b[49m\u001b[43m \u001b[49m\u001b[38;5;241;43m*\u001b[39;49m\u001b[43margs\u001b[49m\u001b[43m,\u001b[49m\u001b[43m \u001b[49m\u001b[38;5;241;43m*\u001b[39;49m\u001b[38;5;241;43m*\u001b[39;49m\u001b[43mkwargs\u001b[49m\u001b[43m)\u001b[49m\n",
      "File \u001b[0;32m~/parthpython/lib/python3.12/site-packages/sklearn/manifold/_t_sne.py:1175\u001b[0m, in \u001b[0;36mTSNE.fit_transform\u001b[0;34m(self, X, y)\u001b[0m\n\u001b[1;32m   1172\u001b[0m \u001b[38;5;28;01melse\u001b[39;00m:\n\u001b[1;32m   1173\u001b[0m     \u001b[38;5;28mself\u001b[39m\u001b[38;5;241m.\u001b[39m_max_iter \u001b[38;5;241m=\u001b[39m \u001b[38;5;28mself\u001b[39m\u001b[38;5;241m.\u001b[39mmax_iter\n\u001b[0;32m-> 1175\u001b[0m \u001b[38;5;28;43mself\u001b[39;49m\u001b[38;5;241;43m.\u001b[39;49m\u001b[43m_check_params_vs_input\u001b[49m\u001b[43m(\u001b[49m\u001b[43mX\u001b[49m\u001b[43m)\u001b[49m\n\u001b[1;32m   1176\u001b[0m embedding \u001b[38;5;241m=\u001b[39m \u001b[38;5;28mself\u001b[39m\u001b[38;5;241m.\u001b[39m_fit(X)\n\u001b[1;32m   1177\u001b[0m \u001b[38;5;28mself\u001b[39m\u001b[38;5;241m.\u001b[39membedding_ \u001b[38;5;241m=\u001b[39m embedding\n",
      "File \u001b[0;32m~/parthpython/lib/python3.12/site-packages/sklearn/manifold/_t_sne.py:864\u001b[0m, in \u001b[0;36mTSNE._check_params_vs_input\u001b[0;34m(self, X)\u001b[0m\n\u001b[1;32m    862\u001b[0m \u001b[38;5;28;01mdef\u001b[39;00m \u001b[38;5;21m_check_params_vs_input\u001b[39m(\u001b[38;5;28mself\u001b[39m, X):\n\u001b[1;32m    863\u001b[0m     \u001b[38;5;28;01mif\u001b[39;00m \u001b[38;5;28mself\u001b[39m\u001b[38;5;241m.\u001b[39mperplexity \u001b[38;5;241m>\u001b[39m\u001b[38;5;241m=\u001b[39m X\u001b[38;5;241m.\u001b[39mshape[\u001b[38;5;241m0\u001b[39m]:\n\u001b[0;32m--> 864\u001b[0m         \u001b[38;5;28;01mraise\u001b[39;00m \u001b[38;5;167;01mValueError\u001b[39;00m(\u001b[38;5;124m\"\u001b[39m\u001b[38;5;124mperplexity must be less than n_samples\u001b[39m\u001b[38;5;124m\"\u001b[39m)\n",
      "\u001b[0;31mValueError\u001b[0m: perplexity must be less than n_samples"
     ]
    }
   ],
   "source": [
    "from sklearn.manifold import TSNE\n",
    "\n",
    "# Reduce dimensions for visualization\n",
    "tsne = TSNE(n_components=2, random_state=42)\n",
    "features_2d = tsne.fit_transform(features)\n",
    "\n",
    "plt.scatter(features_2d[:, 0], features_2d[:, 1])\n",
    "plt.title('t-SNE Visualization of VAE Features')\n",
    "plt.show()\n"
   ]
  },
  {
   "cell_type": "code",
   "execution_count": null,
   "metadata": {},
   "outputs": [],
   "source": []
  }
 ],
 "metadata": {
  "kernelspec": {
   "display_name": "parthpython",
   "language": "python",
   "name": "python3"
  },
  "language_info": {
   "codemirror_mode": {
    "name": "ipython",
    "version": 3
   },
   "file_extension": ".py",
   "mimetype": "text/x-python",
   "name": "python",
   "nbconvert_exporter": "python",
   "pygments_lexer": "ipython3",
   "version": "3.12.7"
  }
 },
 "nbformat": 4,
 "nbformat_minor": 2
}
